{
 "cells": [
  {
   "cell_type": "markdown",
   "id": "1186ddc0",
   "metadata": {},
   "source": [
    "### Exercici 1\n",
    "\n",
    "Crea una funció que donat un Array d’una dimensió, et faci un resum estadístic bàsic de les dades. Si detecta que l’array té més d’una dimensió, ha de mostrar un missatge d’error."
   ]
  },
  {
   "cell_type": "code",
   "execution_count": 107,
   "id": "87545d89",
   "metadata": {},
   "outputs": [
    {
     "name": "stdout",
     "output_type": "stream",
     "text": [
      "Example with array A: \n",
      " count    5.000000\n",
      "mean     3.000000\n",
      "std      1.581139\n",
      "min      1.000000\n",
      "25%      2.000000\n",
      "50%      3.000000\n",
      "75%      4.000000\n",
      "max      5.000000\n",
      "dtype: float64 \n",
      "\n",
      "Example with array B:  ¡¡¡Error, feed me a 1D array!!!\n"
     ]
    }
   ],
   "source": [
    "import pandas as pd\n",
    "import numpy as np\n",
    "\n",
    "a = pd.Series([1, 2, 3, 4, 5]) \n",
    "b = np.array([[1,2,3], [4,5,6]])\n",
    "\n",
    "def myfunction(array):\n",
    "    if array.ndim != 1:\n",
    "        return \"¡¡¡Error, feed me a 1D array!!!\"\n",
    "    else:\n",
    "        return array.describe()\n",
    "\n",
    "print('Example with array A: \\n', myfunction(a),'\\n')\n",
    "\n",
    "print('Example with array B: ', myfunction(b))"
   ]
  },
  {
   "cell_type": "markdown",
   "id": "381cd562",
   "metadata": {},
   "source": [
    "### Exercici 2\n",
    "\n",
    "Crea una funció que et generi un quadrat NxN de nombres aleatoris entre el 0 i el 100."
   ]
  },
  {
   "cell_type": "code",
   "execution_count": 121,
   "id": "7024aa2a",
   "metadata": {},
   "outputs": [
    {
     "name": "stdout",
     "output_type": "stream",
     "text": [
      "[[ 29  74  94  10  28  66  69]\n",
      " [  0  77  34  18  86  29  55]\n",
      " [ 93  33  57  38 100  87  10]\n",
      " [ 35  53  45  77  64  69  43]\n",
      " [ 35  66  80  98  11  61  51]\n",
      " [ 61  72  35  34  73  89  10]\n",
      " [ 73  63  61  43   6  23  27]] \n",
      "\n",
      "(7, 7)\n"
     ]
    }
   ],
   "source": [
    "import random\n",
    "\n",
    "\n",
    "def quadr():\n",
    "    N = random.randint(1,10)\n",
    "    quadrat = np.random.randint(0,101,size=(N,N), )\n",
    "    print(quadrat, '\\n')\n",
    "    return quadrat\n",
    "\n",
    "print(quadr().shape)"
   ]
  },
  {
   "cell_type": "markdown",
   "id": "1aae9bda",
   "metadata": {},
   "source": [
    "### Exercici 3\n",
    "\n",
    "Crea una funció que donada una taula de dues dimensions, et calculi els totals per fila i els totals per columna. "
   ]
  },
  {
   "cell_type": "code",
   "execution_count": 110,
   "id": "a088d943",
   "metadata": {
    "code_folding": [],
    "scrolled": true
   },
   "outputs": [
    {
     "name": "stdout",
     "output_type": "stream",
     "text": [
      "[[0.60734845 0.88230805 0.4835254  0.91512178 0.67136289 0.79256001\n",
      "  0.87230688 0.67286574 0.47751752 0.42838482 0.42992519 0.14756597]\n",
      " [0.64575292 0.6999596  0.92468428 0.64966005 0.01385736 0.64593451\n",
      "  0.48366232 0.47595834 0.24670357 0.43284815 0.48126291 0.16446093]] \n",
      "\n",
      "Array has 2 dimensions.\n",
      "\n",
      "2  ROWS:\n",
      "Sum of row 0 equals 7.380792708165989\n",
      "Sum of row 1 equals 5.864744916792494\n",
      "12  COLUMNS:\n",
      "Sum of Column 0 equals 1.2531013663031718\n",
      "Sum of Column 1 equals 1.5822676497225416\n",
      "Sum of Column 2 equals 1.4082096856659616\n",
      "Sum of Column 3 equals 1.5647818326765852\n",
      "Sum of Column 4 equals 0.6852202435417079\n",
      "Sum of Column 5 equals 1.438494519097115\n",
      "Sum of Column 6 equals 1.3559691962072569\n",
      "Sum of Column 7 equals 1.1488240786594313\n",
      "Sum of Column 8 equals 0.7242210895605139\n",
      "Sum of Column 9 equals 0.8612329663314315\n",
      "Sum of Column 10 equals 0.911188095979576\n",
      "Sum of Column 11 equals 0.3120269012131889\n",
      "-----------------\n",
      "None\n"
     ]
    }
   ],
   "source": [
    "def totals(array_2d):\n",
    "    num_rows = len(array_2d)\n",
    "    num_columns = len(array_2d[0])\n",
    "    print(num_rows, ' ROWS:')\n",
    "    for x in range(num_rows):\n",
    "        print(f'Sum of row {x} equals {array_2d[x].sum()}')\n",
    "    print(num_columns, ' COLUMNS:')\n",
    "    for y in range(num_columns):    \n",
    "        print(f'Sum of Column {y} equals {array_2d[:,y].sum()}')\n",
    "    print('-----------------')   \n",
    "b = np.random.random((2,random.randint(0,20)))\n",
    "print(b, '\\n')\n",
    "print(f'Array has {b.ndim} dimensions.\\n')\n",
    "print(totals(b))\n",
    "    "
   ]
  },
  {
   "cell_type": "markdown",
   "id": "669be908",
   "metadata": {},
   "source": [
    "### Exercici 4\n",
    "\n",
    "Implementa manualment una funció que calculi el coeficient de correlació. Informa’t-en sobre els seus usos i interpretació."
   ]
  },
  {
   "cell_type": "code",
   "execution_count": 133,
   "id": "9f17ae36",
   "metadata": {},
   "outputs": [
    {
     "name": "stdout",
     "output_type": "stream",
     "text": [
      "[[ 5 39  2  5 20  8  4 18 12 31]\n",
      " [ 1 21 34 31 34 37 35 21  8 30]] \n",
      "\n",
      "[ 88.36 605.16 153.76  88.36  31.36  40.96 108.16  12.96   5.76 275.56]\n",
      "[ 88.36 605.16 153.76  88.36  31.36  40.96 108.16  12.96   5.76 275.56]\n"
     ]
    }
   ],
   "source": [
    "#Si tenim una taula de n mostres amb 2 variables x e y\n",
    "taula = np.random.randint(1,40,size=(2,10))\n",
    "h = taula.view()\n",
    "n = len(taula[:1])\n",
    "print(h, '\\n')\n",
    "\n",
    "#treiem la mitja de cada variable per poder fer les variances \n",
    "media_x = taula[:1].mean()\n",
    "media_y = taula[1:].mean()\n",
    "\n",
    "#calculem primer la variancia de x e y\n",
    "#que sera la desviacio estandar de cada variable elevada al cuadrat\n",
    "#o pitjor(el sumatori de les diferencies entre cada mostra i la \n",
    "#seva mitja elevats al cuadrat dividit pel nombre total de mostres)\n",
    "var_x = 0\n",
    "for x in taula[:1] :\n",
    "    var_x += ((x - media_x)**2)/n\n",
    "print(var_x)\n",
    "print(var_x/n)\n",
    "#def coef_rel(x,y):\n",
    " #   var_x = x - x.mean\n",
    "  #  var_y = \n",
    "#"
   ]
  },
  {
   "cell_type": "code",
   "execution_count": null,
   "id": "3b7da750",
   "metadata": {},
   "outputs": [],
   "source": []
  },
  {
   "cell_type": "code",
   "execution_count": null,
   "id": "c58a8e78",
   "metadata": {},
   "outputs": [],
   "source": []
  }
 ],
 "metadata": {
  "kernelspec": {
   "display_name": "Python 3 (ipykernel)",
   "language": "python",
   "name": "python3"
  },
  "language_info": {
   "codemirror_mode": {
    "name": "ipython",
    "version": 3
   },
   "file_extension": ".py",
   "mimetype": "text/x-python",
   "name": "python",
   "nbconvert_exporter": "python",
   "pygments_lexer": "ipython3",
   "version": "3.9.7"
  }
 },
 "nbformat": 4,
 "nbformat_minor": 5
}
